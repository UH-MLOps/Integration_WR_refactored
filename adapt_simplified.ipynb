{
 "cells": [
  {
   "cell_type": "code",
   "execution_count": 1,
   "id": "794de7c6",
   "metadata": {},
   "outputs": [],
   "source": [
    "%load_ext autoreload\n",
    "%autoreload 2"
   ]
  },
  {
   "cell_type": "code",
   "execution_count": 2,
   "id": "accb32f6",
   "metadata": {},
   "outputs": [],
   "source": [
    "import json\n",
    "import numpy as np\n",
    "import pandas as pd\n",
    "from datetime import timedelta\n",
    "from geopy.distance import distance, geodesic\n",
    "from geopy import Point, distance as geo_distance\n",
    "from geographiclib.geodesic import Geodesic as GD\n",
    "from scipy.interpolate import interpn\n",
    "import folium\n",
    "from datetime import datetime, timedelta\n",
    "import pytz\n",
    "# import torch\n",
    "# import torch.nn as nn\n",
    "\n",
    "np.set_printoptions(precision=4, suppress=True)"
   ]
  },
  {
   "cell_type": "markdown",
   "id": "9bc38afb",
   "metadata": {},
   "source": [
    "## steps\n",
    "1. read in files (json or csv) and parse the data into dataframe\n",
    "2. check if timestamp is in accending order\n",
    "3. longitude convertion: western negative to 0-360 format\n",
    "4. according to the current position and timestamp, filter out the needed waypoints to df_filter\n",
    "5. create section_waypoints\n",
    "6. generate interpolated coordinates, timestamps and write cog\n",
    "7. interpolate corresponding weather attributes for all the spatial points in the experimenting area\n",
    "8. do the transformation for weather attributes (difference between previous forecasted and latest forecasted)\n",
    "9. zero padding\n",
    "10. pass through the model"
   ]
  },
  {
   "cell_type": "code",
   "execution_count": 3,
   "id": "b431972d",
   "metadata": {},
   "outputs": [],
   "source": [
    "# longitude list and latitude list of the grids in the exaperimenting area\n",
    "long_list = np.array([156.00000694, 157.25000699, 158.50000705, 159.7500071 ,\n",
    "                      161.00000716, 162.25000722, 163.50000727, 164.75000733,\n",
    "                      166.00000738, 167.25000744, 168.50000749, 169.75000755,\n",
    "                      171.00000761, 172.25000766, 173.50000772, 174.75000777,\n",
    "                      176.00000783, 177.25000788, 178.50000794, 179.75000799,\n",
    "                      181.00000805, 182.25000811, 183.50000816, 184.75000822,\n",
    "                      186.00000827, 187.25000833, 188.50000838, 189.75000844,\n",
    "                      191.00000849, 192.25000855, 193.50000861, 194.75000866,\n",
    "                      196.00000872, 197.25000877, 198.50000883, 199.75000888,\n",
    "                      201.00000894, 202.250009  , 203.50000905, 204.75000911,\n",
    "                      206.00000916, 207.25000922, 208.50000927, 209.75000933,\n",
    "                      211.00000938, 212.25000944, 213.5000095 , 214.75000955,\n",
    "                      216.00000961, 217.25000966, 218.50000972, 219.75000977,\n",
    "                      221.00000983, 222.25000988, 223.50000994, 224.75001   ,\n",
    "                      226.00001005, 227.25001011, 228.50001016])\n",
    "lat_list = np.array([50.  , 49.75, 49.5 , 49.25, 49.  , 48.75, 48.5 , 48.25, 48.  ,\n",
    "       47.75, 47.5 , 47.25, 47.  , 46.75, 46.5 , 46.25, 46.  , 45.75,\n",
    "       45.5 , 45.25, 45.  , 44.75, 44.5 , 44.25, 44.  , 43.75, 43.5 ,\n",
    "       43.25, 43.  , 42.75, 42.5 , 42.25, 42.  , 41.75, 41.5 , 41.25,\n",
    "       41.  , 40.75, 40.5 , 40.25, 40.  , 39.75, 39.5 , 39.25, 39.  ,\n",
    "       38.75, 38.5 , 38.25, 38.  , 37.75, 37.5 , 37.25, 37.  , 36.75,\n",
    "       36.5 , 36.25, 36.  , 35.75, 35.5 , 35.25, 35.  , 34.75, 34.5 ,\n",
    "       34.25, 34.  , 33.75, 33.5 , 33.25, 33.  , 32.75, 32.5 , 32.25,\n",
    "       32.  , 31.75, 31.5 , 31.25, 31.  , 30.75, 30.5 , 30.25, 30.  ,\n",
    "       29.75, 29.5 , 29.25, 29.  , 28.75, 28.5 , 28.25, 28.  , 27.75,\n",
    "       27.5 , 27.25, 27.  , 26.75, 26.5 , 26.25, 26.  , 25.75, 25.5 ,\n",
    "       25.25])\n",
    "\n",
    "range_ul = [50, 156.00000694]  # upper left corner coordinates of the experimenting area\n",
    "range_lr = [25, 228.50001016]  # lower right corner coordinates of the experimenting area"
   ]
  },
  {
   "cell_type": "markdown",
   "id": "7c029210",
   "metadata": {},
   "source": [
    "### 1. load input data"
   ]
  },
  {
   "cell_type": "code",
   "execution_count": 4,
   "id": "98c43384",
   "metadata": {},
   "outputs": [],
   "source": [
    "# Option 1: load the JSON file\n",
    "# the provided example is not in the northen pacific area\n",
    "with open('input_sample.json', 'r') as f:\n",
    "    data = json.load(f)\n",
    "\n",
    "# create a dictionary to store the data\n",
    "parsed_data = {'latitude': [], 'longitude': [], 'timestamp': []}\n",
    "\n",
    "# iterate over each coordinate and timestamp, and store them in the dictionary\n",
    "for i in range(len(data['coordinates'])):\n",
    "    parsed_data['latitude'].append(data['coordinates'][i]['latitude'])\n",
    "    parsed_data['longitude'].append(data['coordinates'][i]['longitude'])\n",
    "    parsed_data['timestamp'].append(data['timestamps'][i])\n",
    "\n",
    "# create a Pandas DataFrame from the parsed data\n",
    "input_df = pd.DataFrame(parsed_data)\n"
   ]
  },
  {
   "cell_type": "code",
   "execution_count": 5,
   "id": "6c873007-5efa-4d43-ad67-a7439d9b46d4",
   "metadata": {},
   "outputs": [
    {
     "data": {
      "text/html": [
       "<div>\n",
       "<style scoped>\n",
       "    .dataframe tbody tr th:only-of-type {\n",
       "        vertical-align: middle;\n",
       "    }\n",
       "\n",
       "    .dataframe tbody tr th {\n",
       "        vertical-align: top;\n",
       "    }\n",
       "\n",
       "    .dataframe thead th {\n",
       "        text-align: right;\n",
       "    }\n",
       "</style>\n",
       "<table border=\"1\" class=\"dataframe\">\n",
       "  <thead>\n",
       "    <tr style=\"text-align: right;\">\n",
       "      <th></th>\n",
       "      <th>coordinates</th>\n",
       "      <th>timestamps</th>\n",
       "    </tr>\n",
       "  </thead>\n",
       "  <tbody>\n",
       "    <tr>\n",
       "      <th>0</th>\n",
       "      <td>{'latitude': 60.1533167, 'longitude': 24.9489667}</td>\n",
       "      <td>2018-10-30 00:00:00+00:00</td>\n",
       "    </tr>\n",
       "    <tr>\n",
       "      <th>1</th>\n",
       "      <td>{'latitude': 58.549169, 'longitude': 21.042663}</td>\n",
       "      <td>2018-10-30 11:18:46+00:00</td>\n",
       "    </tr>\n",
       "    <tr>\n",
       "      <th>2</th>\n",
       "      <td>{'latitude': 56.468645, 'longitude': 17.524141}</td>\n",
       "      <td>2018-10-30 23:44:34+00:00</td>\n",
       "    </tr>\n",
       "    <tr>\n",
       "      <th>3</th>\n",
       "      <td>{'latitude': 55.792767, 'longitude': 15.700957}</td>\n",
       "      <td>2018-10-31 05:08:32+00:00</td>\n",
       "    </tr>\n",
       "    <tr>\n",
       "      <th>4</th>\n",
       "      <td>{'latitude': 54.651725, 'longitude': 12.375373}</td>\n",
       "      <td>2018-10-31 14:56:09+00:00</td>\n",
       "    </tr>\n",
       "    <tr>\n",
       "      <th>5</th>\n",
       "      <td>{'latitude': 53.96666718, 'longitude': 10.9}</td>\n",
       "      <td>2018-10-31 19:48:06+00:00</td>\n",
       "    </tr>\n",
       "  </tbody>\n",
       "</table>\n",
       "</div>"
      ],
      "text/plain": [
       "                                         coordinates                timestamps\n",
       "0  {'latitude': 60.1533167, 'longitude': 24.9489667} 2018-10-30 00:00:00+00:00\n",
       "1    {'latitude': 58.549169, 'longitude': 21.042663} 2018-10-30 11:18:46+00:00\n",
       "2    {'latitude': 56.468645, 'longitude': 17.524141} 2018-10-30 23:44:34+00:00\n",
       "3    {'latitude': 55.792767, 'longitude': 15.700957} 2018-10-31 05:08:32+00:00\n",
       "4    {'latitude': 54.651725, 'longitude': 12.375373} 2018-10-31 14:56:09+00:00\n",
       "5       {'latitude': 53.96666718, 'longitude': 10.9} 2018-10-31 19:48:06+00:00"
      ]
     },
     "execution_count": 5,
     "metadata": {},
     "output_type": "execute_result"
    }
   ],
   "source": [
    "pd.read_json('input_sample.json')"
   ]
  },
  {
   "cell_type": "code",
   "execution_count": 6,
   "id": "c425b6c5-5781-4f1d-a779-f111d457d88b",
   "metadata": {},
   "outputs": [
    {
     "data": {
      "text/plain": [
       "{'coordinates': [{'latitude': 60.1533167, 'longitude': 24.9489667},\n",
       "  {'latitude': 58.549169, 'longitude': 21.042663},\n",
       "  {'latitude': 56.468645, 'longitude': 17.524141},\n",
       "  {'latitude': 55.792767, 'longitude': 15.700957},\n",
       "  {'latitude': 54.651725, 'longitude': 12.375373},\n",
       "  {'latitude': 53.96666718, 'longitude': 10.9}],\n",
       " 'timestamps': ['2018-10-30T00:00:00Z',\n",
       "  '2018-10-30T11:18:46Z',\n",
       "  '2018-10-30T23:44:34Z',\n",
       "  '2018-10-31T05:08:32Z',\n",
       "  '2018-10-31T14:56:09Z',\n",
       "  '2018-10-31T19:48:06Z']}"
      ]
     },
     "execution_count": 6,
     "metadata": {},
     "output_type": "execute_result"
    }
   ],
   "source": [
    "data"
   ]
  },
  {
   "cell_type": "code",
   "execution_count": 7,
   "id": "06871727-ee04-4a16-a845-f8ebc60ebcdb",
   "metadata": {},
   "outputs": [],
   "source": [
    "with open('input_sample.json') as data_file:    \n",
    "    data = json.load(data_file)  \n",
    "\n",
    "df = pd.json_normalize(data, 'coordinates')\n",
    "df['timestamps'] = data['timestamps']"
   ]
  },
  {
   "cell_type": "code",
   "execution_count": 8,
   "id": "af68cd1d-aced-44d7-9654-b8a2fd206eb4",
   "metadata": {},
   "outputs": [],
   "source": [
    "import config as cfg"
   ]
  },
  {
   "cell_type": "code",
   "execution_count": 9,
   "id": "af6c5d83-3d1d-4352-aef7-ee4e8ecc3649",
   "metadata": {},
   "outputs": [
    {
     "data": {
      "text/plain": [
       "dict_keys(['TIME AT WAYPOINT', 'LATITUDE', 'LONGITUDE'])"
      ]
     },
     "execution_count": 9,
     "metadata": {},
     "output_type": "execute_result"
    }
   ],
   "source": [
    "cfg.COLUMN_NAMES.keys()"
   ]
  },
  {
   "cell_type": "code",
   "execution_count": 10,
   "id": "8f30fd20",
   "metadata": {},
   "outputs": [],
   "source": [
    "# Option 2: read the csv file into a DataFrame\n",
    "input_df = pd.read_csv('98765434_voyage-export.csv')\n",
    "\n",
    "# extract the desired variables\n",
    "variables = ['LATITUDE', 'LONGITUDE', 'TIME AT WAYPOINT']\n",
    "input_df = input_df[variables]\n",
    "input_df = input_df.rename(columns={'TIME AT WAYPOINT': 'timestamp', 'LATITUDE': 'latitude', 'LONGITUDE': 'longitude'})\n"
   ]
  },
  {
   "cell_type": "markdown",
   "id": "f051f9e1",
   "metadata": {},
   "source": [
    "### 2 + 3 timestamp and longitude conversion "
   ]
  },
  {
   "cell_type": "code",
   "execution_count": 11,
   "id": "8f03b82a",
   "metadata": {},
   "outputs": [],
   "source": [
    "# convert longitudes in the western hemisphere to positive numbers\n",
    "input_df.loc[input_df['longitude'] < 0, 'longitude'] += 360\n",
    "# convert timestamp\n",
    "input_df['timestamp'] = pd.to_datetime(input_df['timestamp'], format='%Y-%m-%d %H:%M:%S')\n",
    "if not input_df['timestamp'].is_monotonic_increasing:\n",
    "    # Sort the DataFrame by the timestamp column\n",
    "    input_df = input_df.sort_values('timestamp')"
   ]
  },
  {
   "cell_type": "markdown",
   "id": "d9748e6e",
   "metadata": {},
   "source": [
    "### 4. filter needed waypoints according to current T0 and current position G0 (lat0, lon0) "
   ]
  },
  {
   "cell_type": "code",
   "execution_count": 17,
   "id": "65330d04",
   "metadata": {},
   "outputs": [
    {
     "data": {
      "text/plain": [
       "Timestamp('2022-10-09 16:00:00+0000', tz='UTC')"
      ]
     },
     "execution_count": 17,
     "metadata": {},
     "output_type": "execute_result"
    }
   ],
   "source": [
    "input_df.timestamp[0]"
   ]
  },
  {
   "cell_type": "code",
   "execution_count": 18,
   "id": "ca14a158",
   "metadata": {},
   "outputs": [
    {
     "data": {
      "text/plain": [
       "Timestamp('2023-07-12 08:11:34.359500+0000', tz='UTC')"
      ]
     },
     "execution_count": 18,
     "metadata": {},
     "output_type": "execute_result"
    }
   ],
   "source": [
    "\n",
    "# cfg.WAYPOINT_T0 = pd.Timestamp(cfg.WAYPOINT_T0, tz='UTC')\n",
    "cfg.WAYPOINT_T0"
   ]
  },
  {
   "cell_type": "code",
   "execution_count": 19,
   "id": "6ffe73ff",
   "metadata": {},
   "outputs": [
    {
     "name": "stdout",
     "output_type": "stream",
     "text": [
      "Error: rerouting point outside the right bound of the experimenting area\n"
     ]
    },
    {
     "data": {
      "text/plain": [
       "'in case of the 3nd senario, quit from here'"
      ]
     },
     "execution_count": 19,
     "metadata": {},
     "output_type": "execute_result"
    }
   ],
   "source": [
    "#current T0 and current position G0 (lat0, lon0) should be provided by json file\n",
    "# Now define T0 and G0 as examples\n",
    "\n",
    "# example 1: starting point is where the ship not yet entered the experimenting area\n",
    "#T0_str = '2022-10-09 17:05:13+00:00'\n",
    "#G0 = (32,124)\n",
    "#T0 = pd.Timestamp(T0_str, tz='UTC')\n",
    "\n",
    "# example 2: starting point is where the ship is in the middle of the experimenting area\n",
    "T0_str = '2022-10-14 16:28:15+00:00'\n",
    "G0 = (49,171)\n",
    "T0 = pd.Timestamp(T0_str, tz='UTC')\n",
    "\n",
    "# example 3: starting point is where the ship has already sailed outside the experimenting area\n",
    "#T0_str = '2022-10-21 07:07:33+00:00'\n",
    "#G0 = (34.313492,239.532944)\n",
    "#T0 = pd.Timestamp(T0_str, tz='UTC')\n",
    "           \n",
    "# filter the dataframe by timestamp and longitude\n",
    "mask = (input_df['timestamp'] >= cfg.WAYPOINT_T0) & (input_df['longitude'].between(range_ul[1], range_lr[1]))\n",
    "\n",
    "# check if the current point or timestamp is after/ exceed the experimenting area\n",
    "if mask.any():\n",
    "    # do the filtering\n",
    "    index_first = np.nonzero(mask.values)[0][0]\n",
    "    index_last = np.nonzero(mask.values)[0][-1]\n",
    "    df_filtered = input_df[index_first-1:index_last+2]\n",
    "else:\n",
    "    # Report\n",
    "    print('Error: rerouting point outside the right bound of the experimenting area')\n",
    "    # also need to stop excuting at all\n",
    "\n",
    "'''in case of the 3nd senario, quit from here'''"
   ]
  },
  {
   "cell_type": "code",
   "execution_count": 20,
   "id": "2a4a2182-34a1-4941-9230-a65d32b34ef4",
   "metadata": {},
   "outputs": [
    {
     "ename": "NameError",
     "evalue": "name 'df_filtered' is not defined",
     "output_type": "error",
     "traceback": [
      "\u001b[0;31m---------------------------------------------------------------------------\u001b[0m",
      "\u001b[0;31mNameError\u001b[0m                                 Traceback (most recent call last)",
      "Cell \u001b[0;32mIn[20], line 1\u001b[0m\n\u001b[0;32m----> 1\u001b[0m df_filtered\n",
      "\u001b[0;31mNameError\u001b[0m: name 'df_filtered' is not defined"
     ]
    }
   ],
   "source": [
    "df_filtered"
   ]
  },
  {
   "cell_type": "markdown",
   "id": "b14c5e1e",
   "metadata": {},
   "source": [
    "### 5. waypoints_section"
   ]
  },
  {
   "cell_type": "code",
   "execution_count": 14,
   "id": "3964aa9f",
   "metadata": {},
   "outputs": [
    {
     "name": "stderr",
     "output_type": "stream",
     "text": [
      "/tmp/ipykernel_37423/318970613.py:25: FutureWarning: The frame.append method is deprecated and will be removed from pandas in a future version. Use pandas.concat instead.\n",
      "  sections_waypoints = sections_waypoints.append({\n",
      "/tmp/ipykernel_37423/318970613.py:25: FutureWarning: The frame.append method is deprecated and will be removed from pandas in a future version. Use pandas.concat instead.\n",
      "  sections_waypoints = sections_waypoints.append({\n",
      "/tmp/ipykernel_37423/318970613.py:25: FutureWarning: The frame.append method is deprecated and will be removed from pandas in a future version. Use pandas.concat instead.\n",
      "  sections_waypoints = sections_waypoints.append({\n",
      "/tmp/ipykernel_37423/318970613.py:25: FutureWarning: The frame.append method is deprecated and will be removed from pandas in a future version. Use pandas.concat instead.\n",
      "  sections_waypoints = sections_waypoints.append({\n",
      "/tmp/ipykernel_37423/318970613.py:25: FutureWarning: The frame.append method is deprecated and will be removed from pandas in a future version. Use pandas.concat instead.\n",
      "  sections_waypoints = sections_waypoints.append({\n",
      "/tmp/ipykernel_37423/318970613.py:25: FutureWarning: The frame.append method is deprecated and will be removed from pandas in a future version. Use pandas.concat instead.\n",
      "  sections_waypoints = sections_waypoints.append({\n",
      "/tmp/ipykernel_37423/318970613.py:25: FutureWarning: The frame.append method is deprecated and will be removed from pandas in a future version. Use pandas.concat instead.\n",
      "  sections_waypoints = sections_waypoints.append({\n",
      "/tmp/ipykernel_37423/318970613.py:25: FutureWarning: The frame.append method is deprecated and will be removed from pandas in a future version. Use pandas.concat instead.\n",
      "  sections_waypoints = sections_waypoints.append({\n"
     ]
    }
   ],
   "source": [
    "# store the information between each pair of consecutive waypoints from df_filtered in sections_waypoints\n",
    "from geopy import distance \n",
    "\n",
    "# calculating bearing\n",
    "def get_bearing(lat1, lat2, long1, long2):\n",
    "    '''The function is used to calculate the CoG from node 1 to node 2'''\n",
    "    brng = GD.WGS84.Inverse(lat1, long1, lat2, long2)['azi1']\n",
    "    if brng < 0:\n",
    "        brng = brng + 360\n",
    "    return brng \n",
    "\n",
    "\n",
    "\n",
    "sections_waypoints = pd.DataFrame(columns=['E_latitude', 'E_longitude', 'L_latitude', \n",
    "                                                'L_longitude', 'E_timestamp', 'L_timestamp', 'cog'])\n",
    "\n",
    "for i in range(len(df_filtered) - 1):\n",
    "    row1 = df_filtered.iloc[i]\n",
    "    row2 = df_filtered.iloc[i + 1]\n",
    "\n",
    "    # Calculate course over ground between two waypoints\n",
    "    cog = get_bearing(row1['latitude'], row2['latitude'], row1['longitude'], row2['longitude'])\n",
    "\n",
    "    # Add the information to the sections_waypoints dataframe\n",
    "    sections_waypoints = sections_waypoints.append({\n",
    "            'E_latitude': row1['latitude'],\n",
    "            'E_longitude': row1['longitude'],\n",
    "            'E_timestamp': row1['timestamp'],\n",
    "            'L_latitude': row2['latitude'],\n",
    "            'L_longitude': row2['longitude'],\n",
    "            'L_timestamp': row2['timestamp'],\n",
    "            'cog': cog\n",
    "    }, ignore_index=True)\n",
    "sections_waypoints['E_latitude'] = sections_waypoints['E_latitude'].astype(float)\n",
    "sections_waypoints['E_longitude'] = sections_waypoints['E_longitude'].astype(float)\n",
    "sections_waypoints['L_latitude'] = sections_waypoints['L_latitude'].astype(float)\n",
    "sections_waypoints['L_longitude'] = sections_waypoints['L_longitude'].astype(float)\n",
    "sections_waypoints['E_timestamp'] = pd.to_datetime(sections_waypoints['E_timestamp'])\n",
    "sections_waypoints['L_timestamp'] = pd.to_datetime(sections_waypoints['L_timestamp'])\n",
    "sections_waypoints['cog'] = sections_waypoints['cog'].astype(float)"
   ]
  },
  {
   "cell_type": "code",
   "execution_count": 15,
   "id": "0a6c5c4c-7297-41fa-998a-5398607f4eff",
   "metadata": {},
   "outputs": [
    {
     "name": "stdout",
     "output_type": "stream",
     "text": [
      "   E_latitude  E_longitude  L_latitude  L_longitude               E_timestamp  \\\n",
      "0   47.429808   170.247897   47.592222   183.484019 2022-10-14 15:28:15+00:00   \n",
      "1   47.592222   183.484019   46.300341   190.204689 2022-10-15 18:21:38+00:00   \n",
      "2   46.300341   190.204689   44.186511   201.717278 2022-10-16 08:42:10+00:00   \n",
      "3   44.186511   201.717278   43.639264   202.444757 2022-10-17 09:53:27+00:00   \n",
      "4   43.639264   202.444757   43.000798   206.117764 2022-10-17 12:10:04+00:00   \n",
      "5   43.000798   206.117764   41.992089   212.587190 2022-10-17 20:26:08+00:00   \n",
      "6   41.992089   212.587190   40.674197   223.251860 2022-10-18 11:06:16+00:00   \n",
      "7   40.674197   223.251860   39.550858   228.689809 2022-10-19 11:30:41+00:00   \n",
      "\n",
      "                L_timestamp         cog  \n",
      "0 2022-10-15 18:21:38+00:00   84.076909  \n",
      "1 2022-10-16 08:42:10+00:00  103.204608  \n",
      "2 2022-10-17 09:53:27+00:00  100.426250  \n",
      "3 2022-10-17 12:10:04+00:00  135.886520  \n",
      "4 2022-10-17 20:26:08+00:00  102.126772  \n",
      "5 2022-10-18 11:06:16+00:00   99.698964  \n",
      "6 2022-10-19 11:30:41+00:00   95.756516  \n",
      "7 2022-10-20 00:28:14+00:00  103.295024  \n"
     ]
    }
   ],
   "source": [
    "print(sections_waypoints)"
   ]
  },
  {
   "cell_type": "markdown",
   "id": "9699eebb",
   "metadata": {},
   "source": [
    "### 6. generate interpolated coordinates, timestamp and write cog"
   ]
  },
  {
   "cell_type": "code",
   "execution_count": 16,
   "id": "799096ad",
   "metadata": {},
   "outputs": [],
   "source": [
    "# Create an empty pandas DataFrame with column 'longitude'\n",
    "interpolation_full = pd.DataFrame({'longitude': long_list})\n",
    "\n",
    "# Add empty columns to the DataFrame\n",
    "interpolation_full['latitude'] = np.nan    # longitudes are given according to the grids\n",
    "                                           # latitudes are interpolated\n",
    "interpolation_full['cog'] = np.nan         \n",
    "interpolation_full['timestamp'] = pd.NaT\n",
    "interpolation_full['arriving_time_latest'] = np.nan\n",
    "interpolation_full['arriving_time_previous'] = np.nan"
   ]
  },
  {
   "cell_type": "code",
   "execution_count": 17,
   "id": "b8197bce",
   "metadata": {},
   "outputs": [],
   "source": [
    "def intp_lat_ts_cog(row):\n",
    "    \"\"\"\n",
    "    Finds the row in `sections_waypoints` where the logitudes in the grid `t_lon` falls between\n",
    "    the `E_longitude` and `L_longitude` values. Calculates the latitude\n",
    "    and timestamp for the target point T_point and sets the `latitude`,\n",
    "    `timestamp`, and `cog` columns in accordingly.\n",
    "\n",
    "    Parameters:\n",
    "    t_lon (float): The longitude value to search for in `sections_waypoints`.\n",
    "    sections_waypoints (pd.DataFrame): The DataFrame containing the sections and waypoints.\n",
    "\n",
    "    Returns:\n",
    "    pd.DataFrame: a row with interpolated values of latitude, timestamp and cog\n",
    "    \"\"\"\n",
    "    # Get t_lon value \n",
    "    t_lon = row['longitude']\n",
    "    # Find row in `sections_waypoints` where `t_lon` falls between\n",
    "    #         the `E_longitude` and `L_longitude` values\n",
    "    mask = (sections_waypoints['E_longitude'] <= t_lon) & (t_lon <= sections_waypoints['L_longitude'])\n",
    "    row_sw = sections_waypoints.loc[mask]\n",
    "    # Calculate t_lat using linear interpolation\n",
    "    point1 = np.array([row_sw['E_latitude'], row_sw['E_longitude']])\n",
    "    point2 = np.array([row_sw['L_latitude'], row_sw['L_longitude']])\n",
    "    t_lat = point1[0] + ((t_lon - point1[1]) / (point2[1] - point1[1])) * (point2[0] - point1[0])\n",
    "    # Calculate t_timestamp using linear interpolation\n",
    "    e_ts = row_sw['E_timestamp']\n",
    "    l_ts = row_sw['L_timestamp']\n",
    "    t_ts = e_ts + ((t_lon - point1[1])[0] / (point2[1] - point1[1])[0]) * (l_ts - e_ts)\n",
    "    return pd.Series({'latitude': t_lat[0], 'timestamp': t_ts.values[0], 'cog': row_sw['cog'].iloc[0]})"
   ]
  },
  {
   "cell_type": "code",
   "execution_count": 18,
   "id": "2626da2a",
   "metadata": {},
   "outputs": [
    {
     "name": "stdout",
     "output_type": "stream",
     "text": [
      "12\n"
     ]
    }
   ],
   "source": [
    "# return the index of the smallest longitude in grids that is larger than the current position G0[1]\n",
    "s_grids_lon_index = (interpolation_full['longitude'] >= G0[1]).idxmax()\n",
    "print(s_grids_lon_index)"
   ]
  },
  {
   "cell_type": "code",
   "execution_count": 19,
   "id": "5b0440e0",
   "metadata": {},
   "outputs": [],
   "source": [
    "#interpolate latitude timestamp and write cog\n",
    "interpolation_full.loc[s_grids_lon_index:, ['latitude', 'timestamp', 'cog']] = (interpolation_full.loc[s_grids_lon_index:,:]\n",
    "                                                                                .apply(intp_lat_ts_cog, axis=1))"
   ]
  },
  {
   "cell_type": "markdown",
   "id": "71efe7c1",
   "metadata": {},
   "source": [
    "### 7. read and interpolate corresponding weather attributes"
   ]
  },
  {
   "cell_type": "code",
   "execution_count": 20,
   "id": "98eba959",
   "metadata": {},
   "outputs": [],
   "source": [
    "# find out the lastest available weather forecast according to the current timepoint\n",
    "\n",
    "def get_last_weather_forecast(timestamp_str):\n",
    "    \n",
    "    '''return the forecast files names and the timestamps of the forecast'''\n",
    "    # only keep the year month day hour minute seconds\n",
    "    truncated_timestamp_str = timestamp_str[:19]\n",
    "    \n",
    "    dt = datetime.strptime(truncated_timestamp_str, '%Y-%m-%d %H:%M:%S')\n",
    "    forecast_hour = (dt.hour // 6) * 6\n",
    "    last_forecast = pytz.utc.localize(datetime(dt.year, dt.month, dt.day, forecast_hour))\n",
    "    previous_forecast = last_forecast-timedelta(hours = 6)\n",
    "    \n",
    "    # the most recent forecast and the previous one\n",
    "    last_forecast_name = (str(last_forecast.year)+str(last_forecast.month).zfill(2)+str(last_forecast.day).zfill(2)\n",
    "                             +str(last_forecast.hour).zfill(2))\n",
    "    \n",
    "    previous_forecast_name = (str(previous_forecast.year)+str(previous_forecast.month).zfill(2)\n",
    "                              +str(previous_forecast.day).zfill(2)+str(previous_forecast.hour).zfill(2))\n",
    "    return (last_forecast_name, previous_forecast_name),(last_forecast, previous_forecast) \n"
   ]
  },
  {
   "cell_type": "code",
   "execution_count": 21,
   "id": "d09d9195-f8b5-417d-ad25-412ca5de0353",
   "metadata": {},
   "outputs": [
    {
     "name": "stdout",
     "output_type": "stream",
     "text": [
      "2022020318\n",
      "2022020318\n"
     ]
    }
   ],
   "source": [
    "dt = pd.Timestamp('2022-02-03 18:28:15+00:00', tz='UTC')\n",
    "\n",
    "forecast_hour = (dt.hour // 6) * 6\n",
    "last_forecast = pytz.utc.localize(datetime(dt.year, dt.month, dt.day, forecast_hour))\n",
    "previous_forecast = last_forecast - timedelta(hours=6)\n",
    "\n",
    "# the most recent forecast and the previous one\n",
    "last_forecast_name = f'{last_forecast.year:02d}{last_forecast.month:02d}{last_forecast.day:02d}{last_forecast.hour:02d}'\n",
    "print(last_forecast_name)\n",
    "print((str(last_forecast.year)+str(last_forecast.month).zfill(2)+str(last_forecast.day).zfill(2)+str(last_forecast.hour).zfill(2)))\n",
    "    "
   ]
  },
  {
   "cell_type": "code",
   "execution_count": 22,
   "id": "f9cc5361",
   "metadata": {},
   "outputs": [],
   "source": [
    "forecast_name, forecast_ts = get_last_weather_forecast(T0_str)"
   ]
  },
  {
   "cell_type": "code",
   "execution_count": 23,
   "id": "67359252",
   "metadata": {},
   "outputs": [],
   "source": [
    "# Define a function to calculate the time difference in hours \n",
    "# between the arriving time at a location and the starting time of the weather forecast\n",
    "time_diff0 = lambda x: (pytz.utc.localize(x['timestamp']) - forecast_ts[0]) / timedelta(hours=1)\n",
    "time_diff1 = lambda x: (pytz.utc.localize(x['timestamp']) - forecast_ts[1]) / timedelta(hours=1)\n",
    "\n",
    "# Apply the function to the dataframe\n",
    "interpolation_full.loc[s_grids_lon_index:, 'arriving_time_latest'] = (interpolation_full.loc[s_grids_lon_index:,:]\n",
    "                                                                      .apply(time_diff0, axis=1))\n",
    "interpolation_full.loc[s_grids_lon_index:, 'arriving_time_previous'] = (interpolation_full.loc[s_grids_lon_index:,:]\n",
    "                                                                      .apply(time_diff1, axis=1))"
   ]
  },
  {
   "cell_type": "code",
   "execution_count": 24,
   "id": "175f3fd5-9fc5-4d8e-887d-067391fdeafc",
   "metadata": {},
   "outputs": [],
   "source": [
    "def hour2timeframe(row):\n",
    "    '''The timeframe is from 0 to 209, but the real hour is from 0 to 384. \n",
    "    From hour 120 onwards, every three hours per timeframe.\n",
    "    The function is to find out the positions in the timeframes according to the hour'''\n",
    "    if row['arriving_time_latest'] > 120:\n",
    "        tf_latest = (row['arriving_time_latest']-120)/3 + 120\n",
    "    else:\n",
    "        tf_latest = row['arriving_time_latest']\n",
    "        \n",
    "    if row['arriving_time_previous'] > 120:\n",
    "        tf_previous = (row['arriving_time_previous']-120)/3 + 120\n",
    "    else:\n",
    "        tf_previous = row['arriving_time_previous']\n",
    "    return pd.Series({'tf_latest': tf_latest, 'tf_previous': tf_previous})"
   ]
  },
  {
   "cell_type": "code",
   "execution_count": 25,
   "id": "2e35d609",
   "metadata": {},
   "outputs": [],
   "source": [
    "interpolation_full.loc[s_grids_lon_index:, ['tf_latest', 'tf_previous']] = (interpolation_full.loc[s_grids_lon_index:,:]\n",
    "                                                                      .apply(hour2timeframe, axis=1))"
   ]
  },
  {
   "cell_type": "code",
   "execution_count": 26,
   "id": "5796a440-d7ac-46c1-a482-40015102220e",
   "metadata": {},
   "outputs": [
    {
     "data": {
      "text/plain": [
       "('2022101412', '2022101406')"
      ]
     },
     "execution_count": 26,
     "metadata": {},
     "output_type": "execute_result"
    }
   ],
   "source": [
    "forecast_name"
   ]
  },
  {
   "cell_type": "code",
   "execution_count": 27,
   "id": "145f3ab9",
   "metadata": {},
   "outputs": [],
   "source": [
    "# read in the needed weather forecast file\n",
    "wf_latest = np.load('gfs_NP_'+forecast_name[0]+'.npy')\n",
    "wf_previous = np.load('gfs_NP_'+forecast_name[1]+'.npy')"
   ]
  },
  {
   "cell_type": "code",
   "execution_count": 28,
   "id": "bec7edb2",
   "metadata": {},
   "outputs": [],
   "source": [
    "#flip for the 1st dimension (latitude) because interpolation requires first dimension in accending order\n",
    "# slice and drop the last longitude as weather attributes are not needed for the destination\n",
    "wf_latest = np.flip(wf_latest, axis = 0)[:,:-1,:,:]\n",
    "wf_previous = np.flip(wf_previous, axis = 0)[:,:-1,:,:]"
   ]
  },
  {
   "cell_type": "code",
   "execution_count": 29,
   "id": "a819d1c8",
   "metadata": {},
   "outputs": [],
   "source": [
    "def interp_row(row, wf, tsn):\n",
    "    \n",
    "    '''\n",
    "    The function aims to retrieve and interpolate the weather conditions at the given position according \n",
    "    to its spatial coordinates and arriving time (hour)\n",
    "    input:\n",
    "    wf is the weather forecast array, wf_latest or wf_previous\n",
    "    tsn = 'tf_latest' or 'tf_previous' according to wf\n",
    "    output: weather conditions for wind, wave and swell (8)\n",
    "    '''\n",
    "    # Define the interpolation points as a tuple of arrays\n",
    "    interp_points = (row['latitude'], row['longitude'], row[tsn], range(wf.shape[3]))\n",
    "\n",
    "    # Interpolate the weather variable values at the interpolation points\n",
    "    var_values = interpn((np.flip(lat_list), long_list, range(wf.shape[2]), range(wf.shape[3])),\n",
    "                     wf, interp_points, method='linear')\n",
    "    return var_values"
   ]
  },
  {
   "cell_type": "code",
   "execution_count": 30,
   "id": "9635cd0a",
   "metadata": {},
   "outputs": [],
   "source": [
    "# interpolation of weather conditions forecasted in the latest weather forecast and the previous weather forecast\n",
    "interpolation_full.loc[s_grids_lon_index:,'latest_weather'] = interpolation_full.loc[s_grids_lon_index:,:].apply(lambda row: \n",
    "                                                                                                                 interp_row(row, wf_latest, 'tf_latest'), axis = 1)\n",
    "interpolation_full.loc[s_grids_lon_index:,'previous_weather'] = interpolation_full.loc[s_grids_lon_index:,:].apply(lambda row: \n",
    "                                                                                                                   interp_row(row, wf_previous, 'tf_previous'), axis = 1)"
   ]
  },
  {
   "cell_type": "code",
   "execution_count": 31,
   "id": "a4a15687",
   "metadata": {},
   "outputs": [],
   "source": [
    "# Define a function that converts a 1D numpy array of weather variables to the desired format\n",
    "def convert_weather_array(weather_array, cog):\n",
    "    # Make a copy of the input array of weather conditions\n",
    "    converted_array = np.copy(weather_array)\n",
    "\n",
    "    # Define the indices of the directions of wind, wave and swell\n",
    "    direction_indices = [1, 4, 7]\n",
    "\n",
    "    # Subtract the cog from the direction and take the absolute value and convert if larger than 180 degree\n",
    "    for idx in direction_indices:\n",
    "        diff = abs(weather_array[idx] - cog)\n",
    "        if diff <= 180:\n",
    "            converted_array[idx] = diff\n",
    "        else:\n",
    "            converted_array[idx] = 360 - diff\n",
    "\n",
    "    return converted_array\n",
    "\n",
    "\n",
    "# Apply the 'convert_weather_array' function to each row of the DataFrame\n",
    "converted_weather = interpolation_full.loc[s_grids_lon_index:,:].apply(lambda row: convert_weather_array(\n",
    "    row['latest_weather'], row['cog']) - convert_weather_array(row['previous_weather'], row['cog']), axis=1)\n",
    "\n",
    "# Concatenate the converted weather arrays into a single flattened array\n",
    "flattened_weather = np.concatenate(converted_weather.to_numpy())\n",
    "\n",
    "# Zero-pad the flattened array if necessary\n",
    "if len(flattened_weather) < 59 * 8:\n",
    "    padding = np.zeros((59 * 8 - len(flattened_weather),))\n",
    "    flattened_weather = np.concatenate((padding, flattened_weather))\n",
    "\n"
   ]
  },
  {
   "cell_type": "code",
   "execution_count": 38,
   "id": "b2196009-1271-4c46-a3fc-ab18d78c9f09",
   "metadata": {},
   "outputs": [
    {
     "data": {
      "text/plain": [
       "array([  0.    ,   0.    ,   0.    ,   0.    ,   0.    ,   0.    ,\n",
       "         0.    ,   0.    ,   0.    ,   0.    ,   0.    ,   0.    ,\n",
       "         0.    ,   0.    ,   0.    ,   0.    ,   0.    ,   0.    ,\n",
       "         0.    ,   0.    ,   0.    ,   0.    ,   0.    ,   0.    ,\n",
       "         0.    ,   0.    ,   0.    ,   0.    ,   0.    ,   0.    ,\n",
       "         0.    ,   0.    ,   0.    ,   0.    ,   0.    ,   0.    ,\n",
       "         0.    ,   0.    ,   0.    ,   0.    ,   0.    ,   0.    ,\n",
       "         0.    ,   0.    ,   0.    ,   0.    ,   0.    ,   0.    ,\n",
       "         0.    ,   0.    ,   0.    ,   0.    ,   0.    ,   0.    ,\n",
       "         0.    ,   0.    ,   0.    ,   0.    ,   0.    ,   0.    ,\n",
       "         0.    ,   0.    ,   0.    ,   0.    ,   0.    ,   0.    ,\n",
       "         0.    ,   0.    ,   0.    ,   0.    ,   0.    ,   0.    ,\n",
       "         0.    ,   0.    ,   0.    ,   0.    ,   0.    ,   0.    ,\n",
       "         0.    ,   0.    ,   0.    ,   0.    ,   0.    ,   0.    ,\n",
       "         0.    ,   0.    ,   0.    ,   0.    ,   0.    ,   0.    ,\n",
       "         0.    ,   0.    ,   0.    ,   0.    ,   0.    ,   0.    ,\n",
       "        -0.5811,   5.5779,  -1.6615,  -2.9563,  42.6578,  -0.0376,\n",
       "        -0.1542, -48.7224,   0.0068,   5.6438,  -0.3628,  -0.2423,\n",
       "       -12.4516,  -0.0474,  -0.066 ,   0.7312,   2.065 ,  12.6035,\n",
       "         0.0846,   0.1867,  22.4899,  -0.0166,  -0.0131,   0.6198,\n",
       "         0.5839,  12.1219,   0.2848,   0.4995,  -1.2886,   0.0035,\n",
       "         0.1305,  27.5416,   0.5426,   6.3136,  -0.141 ,   0.1574,\n",
       "        48.0499,   0.0232,   0.1036, -10.941 ,   0.0385,  13.1599,\n",
       "         0.2844,   0.6167, 127.6205,  -0.0925,  -0.017 , -46.7825,\n",
       "         0.2828,   6.5898,  -0.1359,   0.9357, 150.1355,  -0.1199,\n",
       "        -0.0249,  -0.9886,   0.0377,  11.9701,   0.0009,  -0.0016,\n",
       "         1.6129,  -0.0901,  -0.0373,   0.5148,  -1.152 ,   8.1714,\n",
       "        -0.0392,   0.0548,   2.6762,  -0.08  ,  -0.057 ,   1.0799,\n",
       "        -0.2646,   4.988 ,  -0.0152,   0.0563,   3.559 ,  -0.059 ,\n",
       "        -0.1567, -40.1126,  -0.7639,   4.9683,  -0.796 ,   1.0968,\n",
       "        33.6003,   1.496 ,  -1.1772, 166.4537,  -0.8823,   1.2171,\n",
       "        -0.4045,   0.28  ,  13.0654,   0.581 ,  -1.856 ,  52.1617,\n",
       "        -0.3767,   5.686 ,  -0.1642,  -0.0526,   2.4285,   0.    ,\n",
       "         0.0088,  -0.0007,   0.4215,   7.7461,  -0.0672,  -0.0553,\n",
       "         4.6948,  -0.3304,   2.0159, -48.6234,   1.5114,   4.9875,\n",
       "        -0.0684,  -0.0732,   3.7132,   0.0049,  -0.04  ,   0.0762,\n",
       "         0.8161,   0.2456,  -0.0394,  -0.0806,   3.3922,   0.0012,\n",
       "        -0.0254,  -0.2029,   1.293 ,   1.8317,   0.2074,  -0.1131,\n",
       "        -1.6342,  -0.9294,   1.504 , -46.4214,   1.8666,  -3.9405,\n",
       "         0.0545,  -0.0213,   1.8798,  -2.2379,   2.9339, -86.9482,\n",
       "         2.4885,  -4.773 ,   0.0481,   0.0507,   2.3668,  -2.4552,\n",
       "         3.207 , -41.1207,   3.1803,  -9.0906,   0.3787,   1.4029,\n",
       "         7.8153,   0.1566,   0.0847,   1.375 ,   2.3944, -13.8821,\n",
       "         0.3804,   3.1741,  15.6221,   0.1616,   0.1584,   0.679 ,\n",
       "         0.6363,  37.3809,   0.1183,   0.3688, -21.7848,   0.1606,\n",
       "         0.1517,   0.1817,  -1.6964, -30.6135,   0.1134,   0.8441,\n",
       "       -60.5208,   0.1398,   0.1172,  -0.2094,   1.1253, -22.5051,\n",
       "         0.1827,  -5.202 , -37.0096,   0.1238,   0.104 ,  -0.4561,\n",
       "         0.0637, -27.0458,   0.2464,  -3.4285, -19.5868,   0.0573,\n",
       "         0.0841,  -1.6965,   1.5639,  29.6677,   0.6491,   1.0937,\n",
       "        14.7061,   0.0375,   0.0846,   2.2095,  -6.3169,  64.6211,\n",
       "         0.2955,   1.0154,  33.9045,   0.0882,   0.0709,  -2.435 ,\n",
       "        -6.9356,  49.9866,   0.2475,   1.2043,  37.4979,   0.1251,\n",
       "         0.0635,  -1.8775,  -1.2057,  11.6361,   0.3619,   0.9499,\n",
       "        23.8621,   0.1161,   0.0918,  -1.4114,   0.3419,  29.949 ,\n",
       "         0.4027,   0.6446,  19.7032,   0.0648,   0.1186,  -1.3323,\n",
       "        -2.0937,  37.4985,  -0.2662,   0.2911,  17.1844,   0.7069,\n",
       "         0.5031,  13.2626,  -2.0705,  37.0046,  -0.258 ,   0.2545,\n",
       "        13.857 ,   1.4544,   0.5527,  21.2492,  -1.8771,  34.8777,\n",
       "        -0.1185,   0.392 ,  11.9379,   2.6671,   0.8239,  16.2803,\n",
       "        -2.0947,  33.8847,  -0.0777,   0.4629,  11.3819,   0.6143,\n",
       "         0.1294,   5.0429,  -1.6825,  33.1119,  -3.511 ,  -0.9808,\n",
       "        38.1691,   4.6528,   1.0502, -13.4128,  -2.6747,  32.4626,\n",
       "        -3.3083,  -0.7816,  38.2414,   0.0451,  -0.3407,   3.5718,\n",
       "        -3.3691,  20.5772,  -0.9703,  -0.3535,  -0.8825,  -0.0881,\n",
       "        -1.0452,   3.6559,   2.8847, -61.6086,  -1.6315,  -1.0744,\n",
       "       -24.4063,  -0.4514,  -1.5278,   7.487 ,  -6.2116, -45.4876,\n",
       "        -1.39  ,  -1.285 ,  53.4325,   0.5999,  -1.6543, -15.291 ,\n",
       "        -1.0363,   4.391 ,  -1.5141,   1.4992,  -2.6748,   0.2931,\n",
       "        -2.2039, -21.4943,  -1.6519,   6.3933,  -0.3218,  -0.3202,\n",
       "         6.126 ,  -0.4959,  -2.0565,  -3.117 ,  -2.118 ,   2.4512,\n",
       "        -0.3768,  -0.8657,  -1.7213,  -0.5796,  -3.1755,  -1.0179,\n",
       "        -1.866 ,  -3.465 ,  -0.676 ,  -1.699 , -28.8261,  -0.3602,\n",
       "        -3.1231,  -9.8699,  -0.6222,  -8.9705,  -0.592 ,   2.1383,\n",
       "        18.8097,  -0.6858,  -3.0369,  -7.9777,  -2.6298, -29.3053,\n",
       "         0.1801,   0.9535,  11.2052,  -0.7153,  -3.0033,  -5.3368,\n",
       "        -1.3973,  -5.4794,  -0.1369,  -0.8581,  26.3547,  -0.7714,\n",
       "        -2.6469,   2.1234,   1.0446,   9.0434,  -0.0514,  -0.6324,\n",
       "         5.4923,  -0.7683,  -2.7443,   5.9167])"
      ]
     },
     "execution_count": 38,
     "metadata": {},
     "output_type": "execute_result"
    }
   ],
   "source": [
    "flattened_weather"
   ]
  },
  {
   "cell_type": "markdown",
   "id": "a87ef19a",
   "metadata": {},
   "source": [
    "### inference"
   ]
  },
  {
   "cell_type": "code",
   "execution_count": 33,
   "id": "92f44a5f",
   "metadata": {},
   "outputs": [],
   "source": [
    "# architecture:\n",
    "class BinaryClassification(nn.Module):\n",
    "    def __init__(self):\n",
    "        super(BinaryClassification, self).__init__()\n",
    "        # Number of input features is 12.\n",
    "        self.layer_1 = nn.Linear(472, 640) \n",
    "        self.layer_2 = nn.Linear(640, 120)\n",
    "        self.layer_3 = nn.Linear(120, 64)\n",
    "        self.layer_out = nn.Linear(64, 1) \n",
    "        \n",
    "        self.relu = nn.ReLU()\n",
    "        self.dropout1 = nn.Dropout(p=0.1)\n",
    "        self.dropout2 = nn.Dropout(p=0.2)\n",
    "        self.batchnorm1 = nn.BatchNorm1d(640)\n",
    "        self.batchnorm2 = nn.BatchNorm1d(120)\n",
    "        self.batchnorm3 = nn.BatchNorm1d(64)\n",
    "    def init_weights(self):\n",
    "        torch.nn.init.kaiming_normal_(self.layer_1.weight)\n",
    "        torch.nn.init.kaiming_normal_(self.layer_2.weight)\n",
    "        torch.nn.init.kaiming_normal_(self.layer_3.weight)\n",
    "        torch.nn.init.kaiming_normal_(self.layer_out.weight)      \n",
    "    def forward(self, inputs):\n",
    "        x = self.relu(self.layer_1(inputs))\n",
    "        x = self.batchnorm1(x)\n",
    "        x = self.relu(self.layer_2(x))\n",
    "        x = self.batchnorm2(x)\n",
    "        x = self.dropout1(x)\n",
    "        x = self.relu(self.layer_3(x))\n",
    "        x = self.batchnorm3(x)\n",
    "        x = self.dropout2(x)\n",
    "        x = self.layer_out(x)\n",
    "        \n",
    "        return x\n",
    "model = BinaryClassification()"
   ]
  },
  {
   "cell_type": "code",
   "execution_count": 34,
   "id": "2ac5e7b7",
   "metadata": {},
   "outputs": [
    {
     "data": {
      "text/plain": [
       "<All keys matched successfully>"
      ]
     },
     "execution_count": 34,
     "metadata": {},
     "output_type": "execute_result"
    }
   ],
   "source": [
    "# load the trained model\n",
    "trained_model = torch.load('pretrained_wr_v2.pt')['state_dict']\n",
    "model.load_state_dict(trained_model)"
   ]
  },
  {
   "cell_type": "code",
   "execution_count": 35,
   "id": "2d54b4b5",
   "metadata": {},
   "outputs": [
    {
     "name": "stdout",
     "output_type": "stream",
     "text": [
      "Rerouting is not recommended!\n"
     ]
    }
   ],
   "source": [
    "# predict\n",
    "tensor_input = torch.tensor(flattened_weather).float()\n",
    "tensor_input = tensor_input.reshape(1, -1)\n",
    "model.eval()\n",
    "probs = torch.sigmoid(model.forward(tensor_input))\n",
    "preds = (probs >= 0.5).int()\n",
    "print('Rerouting is recommended!' if preds == 1 else 'Rerouting is not recommended!')"
   ]
  },
  {
   "cell_type": "code",
   "execution_count": 43,
   "id": "85879a20",
   "metadata": {},
   "outputs": [
    {
     "name": "stdout",
     "output_type": "stream",
     "text": [
      "2023-05-05\n"
     ]
    }
   ],
   "source": [
    "print(datetime.now().date())"
   ]
  },
  {
   "cell_type": "code",
   "execution_count": null,
   "id": "acbedfd6",
   "metadata": {},
   "outputs": [],
   "source": []
  },
  {
   "cell_type": "code",
   "execution_count": null,
   "id": "c3cb6376",
   "metadata": {},
   "outputs": [],
   "source": []
  }
 ],
 "metadata": {
  "kernelspec": {
   "display_name": "Python 3 (ipykernel)",
   "language": "python",
   "name": "python3"
  },
  "language_info": {
   "codemirror_mode": {
    "name": "ipython",
    "version": 3
   },
   "file_extension": ".py",
   "mimetype": "text/x-python",
   "name": "python",
   "nbconvert_exporter": "python",
   "pygments_lexer": "ipython3",
   "version": "3.9.17"
  }
 },
 "nbformat": 4,
 "nbformat_minor": 5
}
