{
 "cells": [
  {
   "cell_type": "code",
   "execution_count": 22,
   "metadata": {},
   "outputs": [],
   "source": [
    "import pandas as pd\n",
    "import json"
   ]
  },
  {
   "cell_type": "code",
   "execution_count": 23,
   "metadata": {},
   "outputs": [],
   "source": [
    "waypoint_t0 = '2023-09-25 11:00:00 +00:00'"
   ]
  },
  {
   "cell_type": "code",
   "execution_count": 24,
   "metadata": {},
   "outputs": [],
   "source": [
    "df = pd.read_csv('sample_route_20230917.csv')\n",
    "df = df.rename(columns={'TIME AT WAYPOINT': 'timestamp', 'LATITUDE': 'latitude', 'LONGITUDE': 'longitude'})\n",
    "\n",
    "data = {\n",
    "    'waypoint_t0': waypoint_t0,\n",
    "    'records': json.loads(df.to_json(orient='records'))\n",
    "}"
   ]
  },
  {
   "cell_type": "code",
   "execution_count": 25,
   "metadata": {},
   "outputs": [],
   "source": [
    "with open('sample_route_20230917.json', 'w') as f:\n",
    "    json.dump(data, f, indent=True)"
   ]
  },
  {
   "cell_type": "code",
   "execution_count": 26,
   "metadata": {},
   "outputs": [
    {
     "data": {
      "text/html": [
       "<div>\n",
       "<style scoped>\n",
       "    .dataframe tbody tr th:only-of-type {\n",
       "        vertical-align: middle;\n",
       "    }\n",
       "\n",
       "    .dataframe tbody tr th {\n",
       "        vertical-align: top;\n",
       "    }\n",
       "\n",
       "    .dataframe thead th {\n",
       "        text-align: right;\n",
       "    }\n",
       "</style>\n",
       "<table border=\"1\" class=\"dataframe\">\n",
       "  <thead>\n",
       "    <tr style=\"text-align: right;\">\n",
       "      <th></th>\n",
       "      <th>latitude</th>\n",
       "      <th>longitude</th>\n",
       "      <th>timestamp</th>\n",
       "    </tr>\n",
       "  </thead>\n",
       "  <tbody>\n",
       "    <tr>\n",
       "      <th>0</th>\n",
       "      <td>31.233333</td>\n",
       "      <td>121.483333</td>\n",
       "      <td>2023-09-17 09:40:00 +00:00</td>\n",
       "    </tr>\n",
       "    <tr>\n",
       "      <th>1</th>\n",
       "      <td>31.235212</td>\n",
       "      <td>121.490076</td>\n",
       "      <td>2023-09-17 09:42:10 +00:00</td>\n",
       "    </tr>\n",
       "    <tr>\n",
       "      <th>2</th>\n",
       "      <td>31.229566</td>\n",
       "      <td>121.497281</td>\n",
       "      <td>2023-09-17 09:45:09 +00:00</td>\n",
       "    </tr>\n",
       "    <tr>\n",
       "      <th>3</th>\n",
       "      <td>31.228668</td>\n",
       "      <td>121.499115</td>\n",
       "      <td>2023-09-17 09:45:48 +00:00</td>\n",
       "    </tr>\n",
       "    <tr>\n",
       "      <th>4</th>\n",
       "      <td>31.230393</td>\n",
       "      <td>121.497940</td>\n",
       "      <td>2023-09-17 09:46:31 +00:00</td>\n",
       "    </tr>\n",
       "    <tr>\n",
       "      <th>...</th>\n",
       "      <td>...</td>\n",
       "      <td>...</td>\n",
       "      <td>...</td>\n",
       "    </tr>\n",
       "    <tr>\n",
       "      <th>134</th>\n",
       "      <td>33.730442</td>\n",
       "      <td>-118.196907</td>\n",
       "      <td>2023-10-08 10:00:56 +00:00</td>\n",
       "    </tr>\n",
       "    <tr>\n",
       "      <th>135</th>\n",
       "      <td>33.735482</td>\n",
       "      <td>-118.206204</td>\n",
       "      <td>2023-10-08 10:04:18 +00:00</td>\n",
       "    </tr>\n",
       "    <tr>\n",
       "      <th>136</th>\n",
       "      <td>33.737122</td>\n",
       "      <td>-118.209228</td>\n",
       "      <td>2023-10-08 10:05:24 +00:00</td>\n",
       "    </tr>\n",
       "    <tr>\n",
       "      <th>137</th>\n",
       "      <td>33.739202</td>\n",
       "      <td>-118.211095</td>\n",
       "      <td>2023-10-08 10:06:20 +00:00</td>\n",
       "    </tr>\n",
       "    <tr>\n",
       "      <th>138</th>\n",
       "      <td>33.745400</td>\n",
       "      <td>-118.216883</td>\n",
       "      <td>2023-10-08 10:09:11 +00:00</td>\n",
       "    </tr>\n",
       "  </tbody>\n",
       "</table>\n",
       "<p>139 rows × 3 columns</p>\n",
       "</div>"
      ],
      "text/plain": [
       "      latitude   longitude                   timestamp\n",
       "0    31.233333  121.483333  2023-09-17 09:40:00 +00:00\n",
       "1    31.235212  121.490076  2023-09-17 09:42:10 +00:00\n",
       "2    31.229566  121.497281  2023-09-17 09:45:09 +00:00\n",
       "3    31.228668  121.499115  2023-09-17 09:45:48 +00:00\n",
       "4    31.230393  121.497940  2023-09-17 09:46:31 +00:00\n",
       "..         ...         ...                         ...\n",
       "134  33.730442 -118.196907  2023-10-08 10:00:56 +00:00\n",
       "135  33.735482 -118.206204  2023-10-08 10:04:18 +00:00\n",
       "136  33.737122 -118.209228  2023-10-08 10:05:24 +00:00\n",
       "137  33.739202 -118.211095  2023-10-08 10:06:20 +00:00\n",
       "138  33.745400 -118.216883  2023-10-08 10:09:11 +00:00\n",
       "\n",
       "[139 rows x 3 columns]"
      ]
     },
     "execution_count": 26,
     "metadata": {},
     "output_type": "execute_result"
    }
   ],
   "source": [
    "with open('sample_route_20230917.json', 'r') as f:\n",
    "    js = json.load(f)\n",
    "df2 = pd.json_normalize(js, 'records')\n",
    "df2"
   ]
  }
 ],
 "metadata": {
  "kernelspec": {
   "display_name": ".venv",
   "language": "python",
   "name": "python3"
  },
  "language_info": {
   "codemirror_mode": {
    "name": "ipython",
    "version": 3
   },
   "file_extension": ".py",
   "mimetype": "text/x-python",
   "name": "python",
   "nbconvert_exporter": "python",
   "pygments_lexer": "ipython3",
   "version": "3.9.17"
  }
 },
 "nbformat": 4,
 "nbformat_minor": 2
}
